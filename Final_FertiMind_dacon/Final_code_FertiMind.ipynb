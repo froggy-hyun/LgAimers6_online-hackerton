{
 "cells": [
  {
   "cell_type": "markdown",
   "metadata": {},
   "source": [
    "####  Colab 환경에서 검증이 가능할 수 있도록 작성하였습니다. \n",
    "####  /content/drive/MyDrive에 Final_FertiMind_dacon 폴더를 위치시키면 실행 가능합니다!\n",
    "#### Optuna, catboost 라이브러리 설치 필요합니다."
   ]
  },
  {
   "cell_type": "code",
   "execution_count": null,
   "metadata": {
    "colab": {
     "base_uri": "https://localhost:8080/"
    },
    "executionInfo": {
     "elapsed": 1433,
     "status": "ok",
     "timestamp": 1740918391078,
     "user": {
      "displayName": "채윤병",
      "userId": "05417324159184162419"
     },
     "user_tz": -540
    },
    "id": "qvAoq793r8ta",
    "outputId": "7ba38184-4516-4b9e-8a74-0a5f52eb8896"
   },
   "outputs": [],
   "source": [
    "from google import colab\n",
    "colab.drive.mount(\"/content/drive\")"
   ]
  },
  {
   "cell_type": "code",
   "execution_count": null,
   "metadata": {
    "colab": {
     "base_uri": "https://localhost:8080/"
    },
    "executionInfo": {
     "elapsed": 15,
     "status": "ok",
     "timestamp": 1740918391095,
     "user": {
      "displayName": "채윤병",
      "userId": "05417324159184162419"
     },
     "user_tz": -540
    },
    "id": "Jw9Z5I3Wya5e",
    "outputId": "d6494152-23e5-4416-81b8-89513bebbeb2"
   },
   "outputs": [],
   "source": [
    "%cd /content/drive/MyDrive/Final_FertiMind_dacon/\n",
    "#현재 코드 파일의 경로"
   ]
  },
  {
   "cell_type": "code",
   "execution_count": null,
   "metadata": {
    "colab": {
     "base_uri": "https://localhost:8080/"
    },
    "executionInfo": {
     "elapsed": 10743,
     "status": "ok",
     "timestamp": 1740918401840,
     "user": {
      "displayName": "채윤병",
      "userId": "05417324159184162419"
     },
     "user_tz": -540
    },
    "id": "d_wO2SOGsO6U",
    "outputId": "98f940a8-db3d-4965-d3b1-e38498eff951"
   },
   "outputs": [],
   "source": [
    "!pip install catboost\n",
    "!pip install optuna"
   ]
  },
  {
   "cell_type": "code",
   "execution_count": null,
   "metadata": {
    "executionInfo": {
     "elapsed": 3696,
     "status": "ok",
     "timestamp": 1740918405539,
     "user": {
      "displayName": "채윤병",
      "userId": "05417324159184162419"
     },
     "user_tz": -540
    },
    "id": "0_-E_OuZQXqu"
   },
   "outputs": [],
   "source": [
    "import random\n",
    "import os\n",
    "import pandas as pd\n",
    "import numpy as np\n",
    "from matplotlib import pyplot as plt\n",
    "import seaborn as sns\n",
    "from catboost import CatBoostClassifier\n",
    "import lightgbm as lgb\n",
    "import optuna\n",
    "from optuna import Trial\n",
    "from optuna.samplers import TPESampler\n",
    "from sklearn.model_selection import StratifiedKFold\n",
    "from sklearn.metrics import roc_auc_score\n",
    "from sklearn.utils.class_weight import compute_class_weight"
   ]
  },
  {
   "cell_type": "code",
   "execution_count": null,
   "metadata": {
    "executionInfo": {
     "elapsed": 21,
     "status": "ok",
     "timestamp": 1740918405612,
     "user": {
      "displayName": "채윤병",
      "userId": "05417324159184162419"
     },
     "user_tz": -540
    },
    "id": "u2FSTwmUIkF5"
   },
   "outputs": [],
   "source": [
    "def seed_everything(seed: int = 42):\n",
    "    random.seed(seed)\n",
    "    np.random.seed(seed)\n",
    "    os.environ[\"PYTHONHASHSEED\"] = str(seed)"
   ]
  },
  {
   "cell_type": "code",
   "execution_count": null,
   "metadata": {
    "executionInfo": {
     "elapsed": 6753,
     "status": "ok",
     "timestamp": 1740918412367,
     "user": {
      "displayName": "채윤병",
      "userId": "05417324159184162419"
     },
     "user_tz": -540
    },
    "id": "bbtq1EWyQcwX"
   },
   "outputs": [],
   "source": [
    "train = pd.read_csv('./data/train.csv').drop(columns=['ID'])\n",
    "test = pd.read_csv('./data/test.csv').drop(columns=['ID'])\n",
    "train.shape, test.shape\n",
    "\n",
    "### 이상치 제거 + 중요 시술 당시 나이 결측값 보간\n",
    "train.loc[train['시술 당시 나이'] == '알 수 없음', '시술 당시 나이'] = '만43-44세'\n",
    "test.loc[test['시술 당시 나이'] == '알 수 없음', '시술 당시 나이'] = '만43-44세'\n",
    "train = train[~((train[\"이식된 배아 수\"] == 0) & (train[\"임신 성공 여부\"] == 1))]"
   ]
  },
  {
   "cell_type": "code",
   "execution_count": null,
   "metadata": {
    "colab": {
     "base_uri": "https://localhost:8080/"
    },
    "executionInfo": {
     "elapsed": 196,
     "status": "ok",
     "timestamp": 1740916629308,
     "user": {
      "displayName": "채윤병",
      "userId": "05417324159184162419"
     },
     "user_tz": -540
    },
    "id": "4xu4wqTwWgEO",
    "outputId": "df1b71c7-cdc6-457f-947d-c82237d93405"
   },
   "outputs": [],
   "source": [
    "### SHapley value 값이 현저히 낮은 열 제거 1\n",
    "drop_columns =['불임 원인 - 여성 요인', '불임 원인 - 자궁경부 문제', '불임 원인 - 정자 면역학적 요인', '불임 원인 - 정자 운동성', '불임 원인 - 정자 형태', '난자 채취 경과일', '난자 해동 경과일']\n",
    "train.drop(columns=drop_columns, inplace=True)\n",
    "test.drop(columns=drop_columns, inplace=True)\n",
    "\n",
    "train.shape, test.shape"
   ]
  },
  {
   "cell_type": "code",
   "execution_count": null,
   "metadata": {
    "executionInfo": {
     "elapsed": 50,
     "status": "ok",
     "timestamp": 1740916629356,
     "user": {
      "displayName": "채윤병",
      "userId": "05417324159184162419"
     },
     "user_tz": -540
    },
    "id": "RM6MsraSr5nj"
   },
   "outputs": [],
   "source": [
    "### 결측 값 보간\n",
    "\n",
    "nan_col_list = ['착상 전 유전 검사 사용 여부','PGD 시술 여부', 'PGS 시술 여부']\n",
    "for col in nan_col_list:\n",
    "    train[col] = train[col].fillna(0)\n",
    "    test[col] = test[col].fillna(0)\n",
    "\n",
    "nan_col_list = ['착상 전 유전 진단 사용 여부' ]\n",
    "\n",
    "for col in nan_col_list:\n",
    "    train[col] = train[col].fillna(1)\n",
    "    test[col] = test[col].fillna(1)"
   ]
  },
  {
   "cell_type": "code",
   "execution_count": null,
   "metadata": {
    "colab": {
     "base_uri": "https://localhost:8080/"
    },
    "executionInfo": {
     "elapsed": 2618,
     "status": "ok",
     "timestamp": 1740916631975,
     "user": {
      "displayName": "채윤병",
      "userId": "05417324159184162419"
     },
     "user_tz": -540
    },
    "id": "Aurm5qVIr5nk",
    "outputId": "3f9949d4-2422-4c45-952d-8aaa1d6f86cf"
   },
   "outputs": [],
   "source": [
    "### SHapley value 값이 현저히 낮은 열 제거 2\n",
    "drop_col = [\"불임 원인 - 정자 농도\",\"DI 출산 횟수\",\"DI 임신 횟수\",\"착상 전 유전 진단 사용 여부\",\"난자 혼합 경과일\",\"부부 주 불임 원인\",\"남성 주 불임 원인\",\"저장된 신선 난자 수\",\"대리모 여부\",\"남성 부 불임 원인\",\"여성 부 불임 원인\",\"부부 부 불임 원인\",\"미세 주입에서 생성된 배아 수\",\"여성 부 불임 원인\",\"불명확 불임 원인\",\"불임 원인 - 자궁내막증\" ]\n",
    "\n",
    "for col in train.columns:\n",
    "    if col in drop_col:\n",
    "        train.drop(columns=col, inplace=True)\n",
    "        test.drop(columns=col, inplace=True)\n",
    "\n",
    "train.shape, test.shape"
   ]
  },
  {
   "cell_type": "code",
   "execution_count": null,
   "metadata": {
    "executionInfo": {
     "elapsed": 167,
     "status": "ok",
     "timestamp": 1740916632144,
     "user": {
      "displayName": "채윤병",
      "userId": "05417324159184162419"
     },
     "user_tz": -540
    },
    "id": "wU5Ona1zr5nm"
   },
   "outputs": [],
   "source": [
    "### 배아 이식 경과일 column의 결측 값들이 비무작위 결측임으로 판단해 새로운 카테고리로 변환\n",
    "\n",
    "train['배아 이식 경과일'] = train['배아 이식 경과일'].replace(-1, np.nan)\n",
    "test['배아 이식 경과일'] = test['배아 이식 경과일'].replace(-1, np.nan)\n",
    "\n",
    "mapping_dict = {\n",
    "    0.0: '0일',\n",
    "    1.0: '1일',\n",
    "    2.0: '2일',\n",
    "    3.0: '3일',\n",
    "    4.0: '4일',\n",
    "    5.0: '5일',\n",
    "    6.0: '6일',\n",
    "    7.0: '7일'\n",
    "}\n",
    "\n",
    "train['배아 이식 경과일'] = train['배아 이식 경과일'].map(mapping_dict)\n",
    "# 3) NaN 값(Missing)을 'Missing' 범주로 대체\n",
    "train['배아 이식 경과일'] = train['배아 이식 경과일'].fillna('Missing')\n",
    "train['배아 이식 경과일'] = train['배아 이식 경과일'].astype('category')\n",
    "\n",
    "test['배아 이식 경과일'] = test['배아 이식 경과일'].map(mapping_dict)\n",
    "# 3) NaN 값(Missing)을 'Missing' 범주로 대체\n",
    "test['배아 이식 경과일'] = test['배아 이식 경과일'].fillna('Missing')\n",
    "test['배아 이식 경과일'] = test['배아 이식 경과일'].astype('category')\n",
    "\n"
   ]
  },
  {
   "cell_type": "code",
   "execution_count": null,
   "metadata": {
    "executionInfo": {
     "elapsed": 899,
     "status": "ok",
     "timestamp": 1740916633055,
     "user": {
      "displayName": "채윤병",
      "userId": "05417324159184162419"
     },
     "user_tz": -540
    },
    "id": "R3zV3S6o92rP"
   },
   "outputs": [],
   "source": [
    "### Key columns에 대한 추가 bin column 생성\n",
    "if '총 생성 배아 수' in train.columns:\n",
    "    bins = [-0.1, 0, 5, 10, 15, 20, 999]\n",
    "    labels = ['0','1~5','6~10','11~15','16~20','21이상']\n",
    "    train['총_생성_배아_bin'] = pd.cut(train['총 생성 배아 수'], bins=bins, labels=labels)\n",
    "    test['총_생성_배아_bin']  = pd.cut(test['총 생성 배아 수'],  bins=bins, labels=labels)\n",
    "\n",
    "if '저장된 배아 수' in train.columns:\n",
    "    bins = [-0.1, 0, 5, 10, 15, 20, 999]\n",
    "    labels = ['0','1~5','6~10','11~15','16~20','21이상']\n",
    "    train['저장된 배아 수_bin'] = pd.cut(train['저장된 배아 수'], bins=bins, labels=labels)\n",
    "    test['저장된 배아 수_bin']  = pd.cut(test['저장된 배아 수'],  bins=bins, labels=labels)\n",
    "\n",
    "# 6. 희소 범주(rare categories) 병합\n",
    "def merge_rare_categories(series, min_count=100):\n",
    "    \"\"\"\n",
    "    시리즈 내에서 출현 횟수가 min_count 미만인 카테고리를\n",
    "    모두 '기타' 카테고리로 통합\n",
    "    \"\"\"\n",
    "    value_counts = series.value_counts(dropna=False)\n",
    "    rare_cats = value_counts[value_counts < min_count].index\n",
    "    return series.replace(rare_cats, '기타')\n",
    "\n",
    "\n",
    "rare_merge_cols = ['특정 시술 유형', '배아 생성 주요 이유']\n",
    "for col in rare_merge_cols:\n",
    "    if col in train.columns:\n",
    "        train[col] = merge_rare_categories(train[col], min_count=30)\n",
    "    if col in test.columns:\n",
    "        test[col] = merge_rare_categories(test[col], min_count=30)\n",
    "train.drop(columns =['임신 시도 또는 마지막 임신 경과 연수'],inplace = True )\n",
    "test.drop(columns =['임신 시도 또는 마지막 임신 경과 연수'],inplace = True )\n"
   ]
  },
  {
   "cell_type": "code",
   "execution_count": null,
   "metadata": {
    "executionInfo": {
     "elapsed": 99,
     "status": "ok",
     "timestamp": 1740916633157,
     "user": {
      "displayName": "채윤병",
      "userId": "05417324159184162419"
     },
     "user_tz": -540
    },
    "id": "f-mBaoLO4ffA"
   },
   "outputs": [],
   "source": [
    "### 특정 시술 유형 통합\n",
    "\n",
    "procedure_encoding_dict = {'ICSI' : 'ICSI', 'IVF' : 'IVF', 'Unknown' : 'Unknown','IUI' : 'IUI',\n",
    "                           'ICSI:ICSI' : 'ICSI', 'ICSI / BLASTOCYST ' : 'ICSI / BLASTOCYST',\n",
    "                           'IVF / BLASTOCYST' : 'IVF / BLASTOCYST','IVF:IVF' : 'IVF','ICSI:IVF' : 'ICSI:IVF',\n",
    "                           'ICSI / AH' : 'ICSI / AH','IVF:ICSI' : 'ICSI:IVF', 'IVF / AH' : 'IVF / AH',\n",
    "                           'ICSI:Unknown' : 'ICSI', 'IVF:Unknown' : 'IVF', 'ICI' : 'ICI','Generic DI' : 'Generic DI',\n",
    "                           'IVI' : 'IVI','ICSI / BLASTOCYST:IVF / BLASTOCYST' : 'ICSI / BLASTOCYST:IVF / BLASTOCYST',\n",
    "                           'ICSI / BLASTOCYST :IVF / BLASTOCYST': 'ICSI / BLASTOCYST:IVF / BLASTOCYST','FER' : 'FER',\n",
    "                           'IVF / AH:ICSI / AH' : 'IVF / AH:ICSI / AH','GIFT':'GIFT','ICSI / AH:Unknown' : 'ICSI / AH',\n",
    "                           'ICSI / BLASTOCYST :ICSI' : 'ICSI / BLASTOCYST', 'IUI:ICI' : 'IUI:ICI',\n",
    "                           'IVF:Unknown:Unknown:Unknown' : 'IVF'}\n",
    "\n",
    "train['특정 시술 유형'] = train['특정 시술 유형'].map(procedure_encoding_dict)\n",
    "test['특정 시술 유형'] = test['특정 시술 유형'].map(procedure_encoding_dict)"
   ]
  },
  {
   "cell_type": "code",
   "execution_count": null,
   "metadata": {
    "colab": {
     "base_uri": "https://localhost:8080/"
    },
    "executionInfo": {
     "elapsed": 6487,
     "status": "ok",
     "timestamp": 1740916639704,
     "user": {
      "displayName": "채윤병",
      "userId": "05417324159184162419"
     },
     "user_tz": -540
    },
    "id": "64dAkKrBayFA",
    "outputId": "badf6ad2-5f98-4123-9df0-ba65b2529452"
   },
   "outputs": [],
   "source": [
    "### 나머지 열들에 대한 결측값 보간\n",
    "categorical_columns = [\n",
    "    \"시술 시기 코드\",\n",
    "    \"시술 당시 나이\",\n",
    "    \"시술 유형\",\n",
    "    \"특정 시술 유형\",\n",
    "    \"배란 자극 여부\",\n",
    "    \"배란 유도 유형\",\n",
    "    \"단일 배아 이식 여부\",\n",
    "    \"착상 전 유전 검사 사용 여부\",\n",
    "    \"착상 전 유전 진단 사용 여부\",\n",
    "    \"남성 주 불임 원인\",\n",
    "    \"남성 부 불임 원인\",\n",
    "    \"여성 주 불임 원인\",\n",
    "    \"여성 부 불임 원인\",\n",
    "    \"부부 주 불임 원인\",\n",
    "    \"부부 부 불임 원인\",\n",
    "    \"불명확 불임 원인\",\n",
    "    \"불임 원인 - 난관 질환\",\n",
    "    \"불임 원인 - 남성 요인\",\n",
    "    \"불임 원인 - 배란 장애\",\n",
    "    \"불임 원인 - 여성 요인\",\n",
    "    \"불임 원인 - 자궁경부 문제\",\n",
    "    \"불임 원인 - 자궁내막증\",\n",
    "    \"불임 원인 - 정자 농도\",\n",
    "    \"불임 원인 - 정자 면역학적 요인\",\n",
    "    \"불임 원인 - 정자 운동성\",\n",
    "    \"불임 원인 - 정자 형태\",\n",
    "    \"배아 생성 주요 이유\",\n",
    "    \"총 시술 횟수\",\n",
    "    \"클리닉 내 총 시술 횟수\",\n",
    "    \"IVF 시술 횟수\",\n",
    "    \"DI 시술 횟수\",\n",
    "    \"총 임신 횟수\",\n",
    "    \"IVF 임신 횟수\",\n",
    "    \"DI 임신 횟수\",\n",
    "    \"총 출산 횟수\",\n",
    "    \"IVF 출산 횟수\",\n",
    "    \"DI 출산 횟수\",\n",
    "    \"난자 출처\",\n",
    "    \"정자 출처\",\n",
    "    \"난자 기증자 나이\",\n",
    "    \"정자 기증자 나이\",\n",
    "    \"동결 배아 사용 여부\",\n",
    "    \"신선 배아 사용 여부\",\n",
    "    \"기증 배아 사용 여부\",\n",
    "    \"대리모 여부\",\n",
    "    \"PGD 시술 여부\",\n",
    "    \"PGS 시술 여부\",\n",
    "    '시술 정자',\n",
    "    '시술 난자',\n",
    "        \"저장된 신선 난자 수\",\"총_생성_배아_bin\",\"저장된 배아 수_bin\"\n",
    "]\n",
    "numeric_columns = [\n",
    "    \"임신 시도 또는 마지막 임신 경과 연수\",\n",
    "    \"총 생성 배아 수\",\n",
    "    \"미세주입된 난자 수\",\n",
    "    \"미세주입에서 생성된 배아 수\",\n",
    "    \"이식된 배아 수\",\n",
    "    \"미세주입 배아 이식 수\",\n",
    "    \"저장된 배아 수\",\n",
    "    \"미세주입 후 저장된 배아 수\",\n",
    "    \"해동된 배아 수\",\n",
    "    \"해동 난자 수\",\n",
    "    \"수집된 신선 난자 수\",\n",
    "    \"저장된 신선 난자 수\",\n",
    "    \"혼합된 난자 수\",\n",
    "    \"파트너 정자와 혼합된 난자 수\",\n",
    "    \"기증자 정자와 혼합된 난자 수\",\n",
    "    \"난자 채취 경과일\",\n",
    "    \"난자 해동 경과일\",\n",
    "    \"난자 혼합 경과일\",\n",
    "    # \"배아 이식 경과일\",\n",
    "    \"배아 해동 경과일\"\n",
    "]+['총 시술 횟수', '클리닉 내 총 시술 횟수', 'IVF 시술 횟수',\n",
    "                      '총 임신 횟수', 'IVF 임신 횟수', '총 출산 횟수', 'IVF 출산 횟수']\n",
    "\n",
    "for col in categorical_columns:\n",
    "  if col in train.columns:\n",
    "    if train[col].isna().sum() > 0 or test[col].isna().sum() > 0 :\n",
    "\n",
    "      mode_value = train[col].mode()[0]\n",
    "      train[col].fillna(mode_value, inplace=True)  # 최빈값으로 대체\n",
    "      test[col].fillna(mode_value, inplace = True)\n",
    "    train[col] = train[col].astype(str)\n",
    "    test[col] = test[col].astype(str)\n",
    "\n",
    "for col in numeric_columns:\n",
    "  if col in train.columns:\n",
    "    if train[col].isna().sum():\n",
    "      if col == \"이식된 배아 수\":\n",
    "        train[col].fillna(3, inplace=True)  \n",
    "        test[col].fillna(3, inplace = True)\n",
    "      elif train[col].isna().sum() >= len(train)*0.5: # 결측치가 절반이 넘어갈 경우\n",
    "        train[col].fillna(-1, inplace=True)  # -1로 대체\n",
    "        test[col].fillna(-1, inplace = True)\n",
    "      else:\n",
    "        mode_value = train[col].mode()[0]  # 최빈값 구하기\n",
    "        train[col].fillna(mode_value, inplace=True)  # 최빈값으로 대체\n",
    "        test[col].fillna(mode_value, inplace = True)"
   ]
  },
  {
   "cell_type": "code",
   "execution_count": null,
   "metadata": {
    "executionInfo": {
     "elapsed": 38,
     "status": "ok",
     "timestamp": 1740916639744,
     "user": {
      "displayName": "채윤병",
      "userId": "05417324159184162419"
     },
     "user_tz": -540
    },
    "id": "CI8IOlCFVXGY"
   },
   "outputs": [],
   "source": [
    "### 파생 변수 생성\n",
    "\n",
    "\n",
    "def make_feature(df):\n",
    "\n",
    "  df['미세주입 배아 생성률'] = (df['미세주입에서 생성된 배아 수']) / (df['미세주입된 난자 수'] + 1)\n",
    "  df['미세주입 배아 이식률'] = (df['미세주입 배아 이식 수']) / (df['미세주입에서 생성된 배아 수'] + 1)\n",
    "  df['배아 이식률'] = (df['이식된 배아 수']) / (df['총 생성 배아 수'] + 1)\n",
    "  df['저장 배아 비율'] = (df['저장된 배아 수'])/ (df['총 생성 배아 수'] + 1)\n",
    "  df['해동 배아 생존율'] = (df['해동된 배아 수'])/ (df['총 생성 배아 수'] + 1)\n",
    "  df['파트너 정자 혼합 비율'] = (df['파트너 정자와 혼합된 난자 수']) / (df['혼합된 난자 수'] + 1)\n",
    "  return df"
   ]
  },
  {
   "cell_type": "code",
   "execution_count": null,
   "metadata": {
    "colab": {
     "base_uri": "https://localhost:8080/"
    },
    "executionInfo": {
     "elapsed": 178,
     "status": "ok",
     "timestamp": 1740916639954,
     "user": {
      "displayName": "채윤병",
      "userId": "05417324159184162419"
     },
     "user_tz": -540
    },
    "id": "_VNPbGSR4h_I",
    "outputId": "2c119184-9de6-4c9e-85d1-507e0dedf8d0"
   },
   "outputs": [],
   "source": [
    "X = train.drop('임신 성공 여부', axis=1)\n",
    "y = train['임신 성공 여부']\n",
    "\n",
    "X = make_feature(X)\n",
    "test = make_feature(test)\n",
    "\n",
    "X.shape, test.shape"
   ]
  },
  {
   "cell_type": "code",
   "execution_count": null,
   "metadata": {
    "executionInfo": {
     "elapsed": 40,
     "status": "ok",
     "timestamp": 1740916639999,
     "user": {
      "displayName": "채윤병",
      "userId": "05417324159184162419"
     },
     "user_tz": -540
    },
    "id": "fkCBE-kSIUnx"
   },
   "outputs": [],
   "source": [
    "categorical_columns = [\n",
    "    \"시술 시기 코드\",\n",
    "    \"시술 당시 나이\",\n",
    "    \"시술 유형\",\n",
    "    \"특정 시술 유형\",\n",
    "    \"배란 자극 여부\",\n",
    "    \"배란 유도 유형\",\n",
    "    \"단일 배아 이식 여부\",\n",
    "    \"착상 전 유전 검사 사용 여부\",\n",
    "    \"착상 전 유전 진단 사용 여부\",\n",
    "    \"남성 주 불임 원인\",\n",
    "    \"남성 부 불임 원인\",\n",
    "    \"여성 주 불임 원인\",\n",
    "    \"여성 부 불임 원인\",\n",
    "    \"부부 주 불임 원인\",\n",
    "    \"부부 부 불임 원인\",\n",
    "    \"불명확 불임 원인\",\n",
    "    \"불임 원인 - 난관 질환\",\n",
    "    \"불임 원인 - 남성 요인\",\n",
    "    \"불임 원인 - 배란 장애\",\n",
    "    \"불임 원인 - 여성 요인\",\n",
    "    \"불임 원인 - 자궁경부 문제\",\n",
    "    \"불임 원인 - 자궁내막증\",\n",
    "    \"불임 원인 - 정자 농도\",\n",
    "    \"불임 원인 - 정자 면역학적 요인\",\n",
    "    \"불임 원인 - 정자 운동성\",\n",
    "    \"불임 원인 - 정자 형태\",\n",
    "    \"배아 생성 주요 이유\",\n",
    "    \"총 시술 횟수\",\n",
    "    \"클리닉 내 총 시술 횟수\",\n",
    "    \"IVF 시술 횟수\",\n",
    "    \"DI 시술 횟수\",\n",
    "    \"총 임신 횟수\",\n",
    "    \"IVF 임신 횟수\",\n",
    "    \"DI 임신 횟수\",\n",
    "    \"총 출산 횟수\",\n",
    "    \"IVF 출산 횟수\",\n",
    "    \"DI 출산 횟수\",\n",
    "    \"난자 출처\",\n",
    "    \"정자 출처\",\n",
    "    \"난자 기증자 나이\",\n",
    "    \"정자 기증자 나이\",\n",
    "    \"동결 배아 사용 여부\",\n",
    "    \"신선 배아 사용 여부\",\n",
    "    \"기증 배아 사용 여부\",\n",
    "    \"대리모 여부\",\n",
    "    \"PGD 시술 여부\",\n",
    "    \"PGS 시술 여부\",\n",
    "    '시술 정자',\n",
    "    '시술 난자',\n",
    "        \"저장된 신선 난자 수\",\"총_생성_배아_bin\",\"임신시도_bin\",\"저장된 배아 수_bin\",\"배아 이식 경과일\"\n",
    "]\n",
    "\n",
    "categorical_columns_new = []\n",
    "for col in X.columns:\n",
    "  if col in categorical_columns:\n",
    "    categorical_columns_new.append(col)\n"
   ]
  },
  {
   "cell_type": "code",
   "execution_count": null,
   "metadata": {
    "executionInfo": {
     "elapsed": 17,
     "status": "ok",
     "timestamp": 1740916640023,
     "user": {
      "displayName": "채윤병",
      "userId": "05417324159184162419"
     },
     "user_tz": -540
    },
    "id": "nsRZfmFixgqm"
   },
   "outputs": [],
   "source": [
    "from sklearn.utils.class_weight import compute_class_weight\n",
    "\n",
    "seed = 4972\n",
    "\n",
    "def objective_cat(trial):\n",
    "\n",
    "    ##Catboost를 Optuna로 하이퍼파라미터 탐색하는 Objective 함수.\n",
    "    global best_val_auc\n",
    "    cbrm_param = {\n",
    "        'iterations':trial.suggest_int(\"iterations\", 1500, 3000),\n",
    "        'depth':trial.suggest_int(\"depth\", 4, 10),\n",
    "        'learning_rate' : trial.suggest_float('learning_rate',0.005, 0.1),\n",
    "        'l2_leaf_reg': trial.suggest_float(\"l2_leaf_reg\", 1e-4, 100.0, log=True),\n",
    "        'early_stopping_rounds': 300\n",
    "    }\n",
    "\n",
    "    # Generate model\n",
    "    model_cat = CatBoostClassifier(**cbrm_param, auto_class_weights='Balanced', eval_metric='AUC', random_state=seed, task_type=\"GPU\")\n",
    "    model_cat.fit(X_train,\n",
    "          y_train,\n",
    "          cat_features=categorical_columns_new,\n",
    "          early_stopping_rounds= 300,\n",
    "          eval_set=[(X_val,y_val)],\n",
    "          verbose = 300)\n",
    "\n",
    "    val_auc = model_cat.get_best_score()[\"validation\"][\"AUC\"]\n",
    "    best_model_path = \"./weight/cat_fold_gpu{}.cbm\".format(idx)\n",
    "    if val_auc > best_val_auc:\n",
    "        best_val_auc = val_auc\n",
    "        model_cat.save_model(best_model_path)\n",
    "        print('저장 완료')\n",
    "\n",
    "    return val_auc\n",
    "\n",
    "def objective_lgbm(trial):\n",
    "    \"\"\"\n",
    "    LightGBM을 Optuna로 하이퍼파라미터 탐색하는 Objective 함수.\n",
    "    \"\"\"\n",
    "    lgbm_params = {\n",
    "        \"objective\": trial.suggest_categorical(\"objective\", [\"binary\"]),\n",
    "        \"metric\": trial.suggest_categorical(\"metric\", [\"auc\"]),\n",
    "        \"random_state\": trial.suggest_int('random_state', 42, 42),\n",
    "        \"verbose\": trial.suggest_int('verbose', -1, -1),\n",
    "        'learning_rate': trial.suggest_float('learning_rate', 0.005, 0.1, log=True),\n",
    "        'n_estimators': trial.suggest_int('n_estimators', 100, 2000),\n",
    "        'min_child_samples': trial.suggest_int('min_child_samples', 10, 50, step=5),\n",
    "        'subsample': trial.suggest_float('subsample', 0.5, 1.0, step=0.1),\n",
    "        'colsample_bytree': trial.suggest_float('colsample_bytree', 0.5, 1.0, step=0.1),\n",
    "    }\n",
    "\n",
    "    class_weights = compute_class_weight(class_weight=\"balanced\", classes=np.unique(y), y=y_train)\n",
    "    class_weight_dict = {i: w for i, w in enumerate(class_weights)}\n",
    "\n",
    "    model_lgbm = lgb.LGBMClassifier(**lgbm_params, class_weight=class_weight_dict)\n",
    "    model_lgbm.fit(\n",
    "        X_train, y_train,\n",
    "        eval_set=[(X_val, y_val)],\n",
    "        categorical_feature=categorical_columns_new\n",
    "    )\n",
    "\n",
    "    return model_lgbm.best_score_['valid_0']['auc']"
   ]
  },
  {
   "cell_type": "code",
   "execution_count": null,
   "metadata": {
    "executionInfo": {
     "elapsed": 6363,
     "status": "ok",
     "timestamp": 1740916646398,
     "user": {
      "displayName": "채윤병",
      "userId": "05417324159184162419"
     },
     "user_tz": -540
    },
    "id": "_Kc8ofqpJiCe"
   },
   "outputs": [],
   "source": [
    "import pandas as pd\n",
    "import numpy as np\n",
    "\n",
    "for i, col in enumerate(categorical_columns_new):\n",
    "    # 1) NaN(결측값) 여부 확인\n",
    "    nan_mask = train[col].isnull()\n",
    "    if nan_mask.any():\n",
    "        print(f\"[열 인덱스: {i}] {col} 열에 NaN(결측값) 존재\")\n",
    "        print(train.loc[nan_mask, col].head(), \"\\n\")\n",
    "\n",
    "    # 2) int/str 이외의 타입이 있는지 확인 (float, bool 등)\n",
    "    invalid_mask = train[col].notnull() & ~train[col].apply(lambda x: isinstance(x, (int, str)))\n",
    "    if invalid_mask.any():\n",
    "        print(f\"[열 인덱스: {i}] {col} 열에 int/str 이외의 타입 존재\")\n",
    "        print(train.loc[invalid_mask, col].head(), \"\\n\")\n"
   ]
  },
  {
   "cell_type": "markdown",
   "metadata": {
    "id": "ox99ZaIQr5nw"
   },
   "source": [
    "# 재현성 확인 코드"
   ]
  },
  {
   "cell_type": "markdown",
   "metadata": {
    "id": "T9GEJJVdr5ny"
   },
   "source": [
    "###### 재구현을 위한 Weight및 파라미터를 불러오는 코드입니다. Training 코드는 해당 재구현 코드 밑에 구현되어있습니다.\n",
    "###### Optuna 검색을 두 번 실행하여, 각 실행에서 CatBoost 모델 10개와 LGBM 모델 10개씩, 총 40개 모델을 생성하였습니다.\n",
    "###### 이 중 검증 성능이 가장 낮은 두 개의 fold에 해당하는 8개의 모델을 제외하고, 나머지 32개 모델에 대해 앙상블을 진행하였습니다."
   ]
  },
  {
   "cell_type": "code",
   "execution_count": null,
   "metadata": {
    "colab": {
     "base_uri": "https://localhost:8080/"
    },
    "executionInfo": {
     "elapsed": 1098250,
     "status": "ok",
     "timestamp": 1740917744670,
     "user": {
      "displayName": "채윤병",
      "userId": "05417324159184162419"
     },
     "user_tz": -540
    },
    "id": "NgiMrBzer5ny",
    "outputId": "499ef76a-9177-4992-c4ac-b6be3ad3982a"
   },
   "outputs": [],
   "source": [
    "import json\n",
    "# with open(\"lgbm_params_minsu_trial_2.json\", \"w\") as f:\n",
    "#     json.dump(lgbm_param_list, f)\n",
    "\n",
    "with open(\"./lgbm_parameter/lgbm_params_minsu_trial_180_1.json\", \"r\") as f:\n",
    "    loaded_lgbm_params_60 =  json.load(f)\n",
    "\n",
    "# import json\n",
    "# with open(\"lgbm_params_minsu_trial.json\", \"w\") as f:\n",
    "#     json.dump(lgbm_param_list, f)\n",
    "\n",
    "with open(\"./lgbm_parameter/lgbm_params_minsu_trial_200_1.json\", \"r\") as f:\n",
    "    loaded_lgbm_params_100 =  json.load(f)\n",
    "for col in X.columns:\n",
    "    if X[col].dtype == 'object':  # 문자형이면 category로 변환\n",
    "        X[col] = X[col].astype('category')\n",
    "        test[col] = test[col].astype('category')\n",
    "seed = 4972\n",
    "\n",
    "test_pred_total = []\n",
    "scores_total = []\n",
    "seed_everything(seed)\n",
    "print('Seed {} Start!'.format(seed))\n",
    "cv = StratifiedKFold(n_splits = 10, random_state = seed, shuffle=True)\n",
    "\n",
    "lgbm_param_list = []\n",
    "for idx, (train_idx, val_idx) in enumerate(cv.split(X, y)):\n",
    "    print('='*50)\n",
    "    X_train, X_val = X.iloc[train_idx],X.iloc[val_idx]\n",
    "    y_train, y_val = y.iloc[train_idx], y.iloc[val_idx]\n",
    "    best_val_auc = 0\n",
    "    ### 10개의 Fold 중에 검증 성능이 가장 낮은 두개의 Fold를 제외하여서 모델을 구성 Fold1 and 9\n",
    "    if idx == 1:\n",
    "        continue\n",
    "    if idx == 9:\n",
    "        continue\n",
    "\n",
    "\n",
    "    ### 첫번째 Catboost 모델 불러오기\n",
    "    model_gpu_60 = CatBoostClassifier()\n",
    "    model_gpu_60.load_model(\"./weight_now_best_solo_first/cat_fold_gpu{}.cbm\".format(idx))\n",
    "\n",
    "    lgbm_trial_params = loaded_lgbm_params_60[idx]\n",
    "    class_weights = compute_class_weight(class_weight=\"balanced\", classes=np.unique(y), y=y_train)\n",
    "    class_weight_dict = {i: w for i, w in enumerate(class_weights)}\n",
    "    ### 첫번쨰 Lgbm 모델 불러오기\n",
    "    model_lgbm_60 = lgb.LGBMClassifier(**lgbm_trial_params,class_weight=class_weight_dict)\n",
    "    model_lgbm_60.fit(X_train, y_train, eval_set=[(X_val, y_val)],categorical_feature=categorical_columns_new)\n",
    "\n",
    "\n",
    "    val_pred_gpu_60 = model_gpu_60.predict_proba(X_val)[:, 1]\n",
    "    val_pred_lgbm_60 = model_lgbm_60.predict_proba(X_val)[:, 1]\n",
    "\n",
    "    ### 두번째 Catboost 모델 불러오기\n",
    "    model_gpu = CatBoostClassifier()\n",
    "    model_gpu.load_model(\"./weight_now_best_for_ensemble/cat_fold_gpu{}.cbm\".format(idx))\n",
    "\n",
    "    lgbm_trial_params = loaded_lgbm_params_100[idx]\n",
    "    class_weights = compute_class_weight(class_weight=\"balanced\", classes=np.unique(y), y=y_train)\n",
    "    class_weight_dict = {i: w for i, w in enumerate(class_weights)}\n",
    "    ### 두번째 Lgbm 모델 불러오기\n",
    "    model_lgbm = lgb.LGBMClassifier(**lgbm_trial_params,class_weight=class_weight_dict)\n",
    "    model_lgbm.fit(X_train, y_train, eval_set=[(X_val, y_val)],categorical_feature=categorical_columns_new)\n",
    "\n",
    "\n",
    "    val_pred_gpu = model_gpu.predict_proba(X_val)[:, 1]\n",
    "    val_pred_lgbm = model_lgbm.predict_proba(X_val)[:, 1]\n",
    "\n",
    "    print('Cat val score : {}'.format(roc_auc_score(y_val,val_pred_gpu_60)))\n",
    "    print('Cat gpu val score : {}'.format(roc_auc_score(y_val,val_pred_gpu)))\n",
    "    print('LGBM val score : {}'.format(roc_auc_score(y_val,val_pred_lgbm_60)))\n",
    "    print('LGBM val score : {}'.format(roc_auc_score(y_val,val_pred_lgbm)))\n",
    "\n",
    "    roc_val = roc_auc_score(y_val, ((val_pred_gpu+val_pred_gpu_60)*1.8 + val_pred_lgbm_60+val_pred_lgbm)/5.6)\n",
    "    scores_total.append(roc_val)\n",
    "    print('Ensemble val score : {}'.format(roc_val))\n",
    "\n",
    "\n",
    "    test_pred_gpu_60 = model_gpu_60.predict_proba(test)[:, 1]\n",
    "    test_pred_lgbm_60 = model_lgbm_60.predict_proba(test)[:, 1]\n",
    "\n",
    "    test_pred_gpu = model_gpu.predict_proba(test)[:, 1]\n",
    "    test_pred_lgbm = model_lgbm.predict_proba(test)[:, 1]\n",
    "\n",
    "    ### Catboost Lgbm 1.8대 1의 앙상블 진행\n",
    "    test_pred_total.append(((test_pred_gpu+test_pred_gpu_60)*1.8+test_pred_lgbm+test_pred_lgbm_60)/5.6)\n"
   ]
  },
  {
   "cell_type": "code",
   "execution_count": null,
   "metadata": {},
   "outputs": [],
   "source": [
    "np.mean(scores_total), scores_total\n",
    "test_pred_total_mean = np.mean(test_pred_total, axis=(0))\n",
    "sample_submission = pd.read_csv('./data/sample_submission.csv')\n",
    "sample_submission['probability'] = test_pred_total_mean\n",
    "sample_submission.to_csv('Add__Minsu_trial_cat1.8lgbm1_fold8.csv', index=False)"
   ]
  },
  {
   "cell_type": "markdown",
   "metadata": {
    "id": "2DQeCPnCr5nz"
   },
   "source": [
    "# Optuna Training 코드"
   ]
  },
  {
   "cell_type": "code",
   "execution_count": null,
   "metadata": {
    "id": "NsuYwQX28LzT",
    "scrolled": true,
    "tags": []
   },
   "outputs": [],
   "source": [
    "\n",
    "for col in X.columns:\n",
    "    if X[col].dtype == 'object':  # 문자형이면 category로 변환\n",
    "        X[col] = X[col].astype('category')\n",
    "        test[col] = test[col].astype('category')\n",
    "seed = 4972\n",
    "\n",
    "test_pred_total = []\n",
    "scores_total = []\n",
    "seed_everything(seed)\n",
    "print('Seed {} Start!'.format(seed))\n",
    "cv = StratifiedKFold(n_splits = 10, random_state = seed, shuffle=True)\n",
    "cat_param_list = []\n",
    "lgbm_param_list = []\n",
    "for idx, (train_idx, val_idx) in enumerate(cv.split(X, y)):\n",
    "    print('='*50)\n",
    "    X_train, X_val = X.iloc[train_idx],X.iloc[val_idx]\n",
    "    y_train, y_val = y.iloc[train_idx], y.iloc[val_idx]\n",
    "    best_val_auc = 0\n",
    "\n",
    "    sampler = TPESampler(seed=seed)\n",
    "\n",
    "    #### Catboost optuna로 최적 파라미터 찾기\n",
    "    optuna_cat = optuna.create_study(direction='maximize', sampler=sampler)\n",
    "    optuna_cat.optimize(objective_cat, n_trials = 30)\n",
    "    cat_trial = optuna_cat.best_trial\n",
    "    cat_trial_params = cat_trial.params\n",
    "    cat_param_list.append(cat_trial_params)\n",
    "\n",
    "    model = CatBoostClassifier(**cat_trial_params, auto_class_weights='Balanced', eval_metric='AUC', random_state=seed, task_type=\"GPU\")\n",
    "    model.load_model(\"./weight/cat_fold_gpu{}.cbm\".format(idx))\n",
    "\n",
    "\n",
    "    sampler = TPESampler(seed=seed)\n",
    "\n",
    "    #### Lgbm optuna로 최적 파라미터 찾기\n",
    "    optuna_lgbm = optuna.create_study(direction='maximize', sampler=sampler)\n",
    "    optuna_lgbm.optimize(objective_lgbm, n_trials=30)\n",
    "    lgbm_trial = optuna_lgbm.best_trial\n",
    "    lgbm_trial_params = lgbm_trial.params\n",
    "    lgbm_param_list.append(lgbm_trial_params)\n",
    "\n",
    "    class_weights = compute_class_weight(class_weight=\"balanced\", classes=np.unique(y), y=y_train)\n",
    "    class_weight_dict = {i: w for i, w in enumerate(class_weights)}\n",
    "    model_lgbm = lgb.LGBMClassifier(**lgbm_trial_params, class_weight=class_weight_dict)\n",
    "    model_lgbm.fit(\n",
    "        X_train, y_train,\n",
    "        eval_set=[(X_val, y_val)],\n",
    "        categorical_feature=categorical_columns_new)\n",
    "    val_pred = model.predict_proba(X_val)[:, 1]\n",
    "    val_pred_lgbm = model_lgbm.predict_proba(X_val)[:, 1]\n",
    "    print('Cat val score : {}'.format(roc_auc_score(y_val,val_pred)))\n",
    "    print('LGBM val score : {}'.format(roc_auc_score(y_val,val_pred_lgbm)))\n",
    "\n",
    "\n",
    "    ### Catboost Lgbm 1.8대 1의 앙상블 진행\n",
    "    roc_val = roc_auc_score(y_val, (1.8*val_pred+val_pred_lgbm)/2.8)\n",
    "    scores_total.append(roc_val)\n",
    "    print('Ensemble val score : {}'.format(roc_val))\n",
    "    test_pred = model.predict_proba(test)[:, 1]\n",
    "    test_pred_lgbm = model_lgbm.predict_proba(test)[:, 1]\n",
    "    test_pred_total.append((1.8*test_pred+test_pred_lgbm)/2.8)\n"
   ]
  },
  {
   "cell_type": "code",
   "execution_count": null,
   "metadata": {
    "id": "RI0UXryUr5n1"
   },
   "outputs": [],
   "source": [
    "np.mean(scores_total), scores_total"
   ]
  },
  {
   "cell_type": "code",
   "execution_count": null,
   "metadata": {
    "id": "yD8Zviczty0t"
   },
   "outputs": [],
   "source": [
    "np.mean(scores_total), scores_total\n",
    "test_pred_total_mean = np.mean(test_pred_total, axis=(0))\n",
    "sample_submission = pd.read_csv('./data/sample_submission.csv')\n",
    "sample_submission['probability'] = test_pred_total_mean\n",
    "sample_submission.to_csv('Add__Minsu_trial_cat1.8lgbm1_fold8.csv', index=False)"
   ]
  }
 ],
 "metadata": {
  "accelerator": "GPU",
  "colab": {
   "gpuType": "T4",
   "provenance": []
  },
  "kernelspec": {
   "display_name": "base",
   "language": "python",
   "name": "python3"
  },
  "language_info": {
   "codemirror_mode": {
    "name": "ipython",
    "version": 3
   },
   "file_extension": ".py",
   "mimetype": "text/x-python",
   "name": "python",
   "nbconvert_exporter": "python",
   "pygments_lexer": "ipython3",
   "version": "3.11.5"
  }
 },
 "nbformat": 4,
 "nbformat_minor": 0
}
